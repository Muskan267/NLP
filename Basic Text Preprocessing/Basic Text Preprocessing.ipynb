{
 "cells": [
  {
   "cell_type": "markdown",
   "id": "353c63dd-d990-40a5-84b5-0ab688c81864",
   "metadata": {},
   "source": [
    "There are two types of pre-processing using NLP . One is advanace and another one is basic . Here we are going to cover basic one ."
   ]
  },
  {
   "cell_type": "code",
   "execution_count": 3,
   "id": "3864461b-1cdf-47ef-8347-9de84d990de1",
   "metadata": {},
   "outputs": [
    {
     "name": "stderr",
     "output_type": "stream",
     "text": [
      "\n",
      "[notice] A new release of pip is available: 24.0 -> 24.1.2\n",
      "[notice] To update, run: python.exe -m pip install --upgrade pip\n"
     ]
    },
    {
     "name": "stdout",
     "output_type": "stream",
     "text": [
      "Requirement already satisfied: textblob in c:\\users\\hp\\appdata\\local\\programs\\python\\python312\\lib\\site-packages (0.18.0.post0)\n",
      "Requirement already satisfied: nltk>=3.8 in c:\\users\\hp\\appdata\\local\\programs\\python\\python312\\lib\\site-packages (from textblob) (3.8.1)\n",
      "Requirement already satisfied: click in c:\\users\\hp\\appdata\\local\\programs\\python\\python312\\lib\\site-packages (from nltk>=3.8->textblob) (8.1.7)\n",
      "Requirement already satisfied: joblib in c:\\users\\hp\\appdata\\local\\programs\\python\\python312\\lib\\site-packages (from nltk>=3.8->textblob) (1.4.2)\n",
      "Requirement already satisfied: regex>=2021.8.3 in c:\\users\\hp\\appdata\\local\\programs\\python\\python312\\lib\\site-packages (from nltk>=3.8->textblob) (2024.5.15)\n",
      "Requirement already satisfied: tqdm in c:\\users\\hp\\appdata\\local\\programs\\python\\python312\\lib\\site-packages (from nltk>=3.8->textblob) (4.66.4)\n",
      "Requirement already satisfied: colorama in c:\\users\\hp\\appdata\\local\\programs\\python\\python312\\lib\\site-packages (from click->nltk>=3.8->textblob) (0.4.6)\n",
      "Requirement already satisfied: nltk in c:\\users\\hp\\appdata\\local\\programs\\python\\python312\\lib\\site-packages (3.8.1)\n",
      "Requirement already satisfied: click in c:\\users\\hp\\appdata\\local\\programs\\python\\python312\\lib\\site-packages (from nltk) (8.1.7)\n",
      "Requirement already satisfied: joblib in c:\\users\\hp\\appdata\\local\\programs\\python\\python312\\lib\\site-packages (from nltk) (1.4.2)\n",
      "Requirement already satisfied: regex>=2021.8.3 in c:\\users\\hp\\appdata\\local\\programs\\python\\python312\\lib\\site-packages (from nltk) (2024.5.15)\n",
      "Requirement already satisfied: tqdm in c:\\users\\hp\\appdata\\local\\programs\\python\\python312\\lib\\site-packages (from nltk) (4.66.4)\n",
      "Requirement already satisfied: colorama in c:\\users\\hp\\appdata\\local\\programs\\python\\python312\\lib\\site-packages (from click->nltk) (0.4.6)\n"
     ]
    },
    {
     "name": "stderr",
     "output_type": "stream",
     "text": [
      "\n",
      "[notice] A new release of pip is available: 24.0 -> 24.1.2\n",
      "[notice] To update, run: python.exe -m pip install --upgrade pip\n"
     ]
    }
   ],
   "source": [
    "#importing libariries \n",
    "\n",
    "import pandas as pd\n",
    "\n",
    "# import regular expressions\n",
    "import re \n",
    "#importing strings library\n",
    "import string\n",
    "#import textblob\n",
    "!pip install textblob\n",
    "from textblob import TextBlob\n",
    "#import nltk\n",
    "!pip install nltk\n",
    "from nltk.corpus import stopwords\n"
   ]
  },
  {
   "cell_type": "code",
   "execution_count": 4,
   "id": "e3fd6265-5158-4a8e-8839-3c1b10a060ea",
   "metadata": {},
   "outputs": [],
   "source": [
    "data = pd.read_csv('IMDB Dataset.csv')"
   ]
  },
  {
   "cell_type": "code",
   "execution_count": 5,
   "id": "c5b34f8c-3cfa-4993-93f4-2d015b3ea08c",
   "metadata": {},
   "outputs": [
    {
     "data": {
      "text/plain": [
       "(50000, 2)"
      ]
     },
     "execution_count": 5,
     "metadata": {},
     "output_type": "execute_result"
    }
   ],
   "source": [
    "data.shape"
   ]
  },
  {
   "cell_type": "code",
   "execution_count": 6,
   "id": "756adca7-edea-46b3-809f-9d1404fa4863",
   "metadata": {},
   "outputs": [
    {
     "data": {
      "text/html": [
       "<div>\n",
       "<style scoped>\n",
       "    .dataframe tbody tr th:only-of-type {\n",
       "        vertical-align: middle;\n",
       "    }\n",
       "\n",
       "    .dataframe tbody tr th {\n",
       "        vertical-align: top;\n",
       "    }\n",
       "\n",
       "    .dataframe thead th {\n",
       "        text-align: right;\n",
       "    }\n",
       "</style>\n",
       "<table border=\"1\" class=\"dataframe\">\n",
       "  <thead>\n",
       "    <tr style=\"text-align: right;\">\n",
       "      <th></th>\n",
       "      <th>review</th>\n",
       "      <th>sentiment</th>\n",
       "    </tr>\n",
       "  </thead>\n",
       "  <tbody>\n",
       "    <tr>\n",
       "      <th>0</th>\n",
       "      <td>One of the other reviewers has mentioned that ...</td>\n",
       "      <td>positive</td>\n",
       "    </tr>\n",
       "    <tr>\n",
       "      <th>1</th>\n",
       "      <td>A wonderful little production. &lt;br /&gt;&lt;br /&gt;The...</td>\n",
       "      <td>positive</td>\n",
       "    </tr>\n",
       "    <tr>\n",
       "      <th>2</th>\n",
       "      <td>I thought this was a wonderful way to spend ti...</td>\n",
       "      <td>positive</td>\n",
       "    </tr>\n",
       "    <tr>\n",
       "      <th>3</th>\n",
       "      <td>Basically there's a family where a little boy ...</td>\n",
       "      <td>negative</td>\n",
       "    </tr>\n",
       "    <tr>\n",
       "      <th>4</th>\n",
       "      <td>Petter Mattei's \"Love in the Time of Money\" is...</td>\n",
       "      <td>positive</td>\n",
       "    </tr>\n",
       "  </tbody>\n",
       "</table>\n",
       "</div>"
      ],
      "text/plain": [
       "                                              review sentiment\n",
       "0  One of the other reviewers has mentioned that ...  positive\n",
       "1  A wonderful little production. <br /><br />The...  positive\n",
       "2  I thought this was a wonderful way to spend ti...  positive\n",
       "3  Basically there's a family where a little boy ...  negative\n",
       "4  Petter Mattei's \"Love in the Time of Money\" is...  positive"
      ]
     },
     "execution_count": 6,
     "metadata": {},
     "output_type": "execute_result"
    }
   ],
   "source": [
    "data.head(5)"
   ]
  },
  {
   "cell_type": "raw",
   "id": "674c49bb-6881-47d6-8cab-c0642e45db4e",
   "metadata": {},
   "source": [
    "Step 1 : Lower Casing "
   ]
  },
  {
   "cell_type": "code",
   "execution_count": 7,
   "id": "d86fbf6c-bb5e-49a9-8e14-df111e5e2e40",
   "metadata": {},
   "outputs": [
    {
     "data": {
      "text/plain": [
       "0        one of the other reviewers has mentioned that ...\n",
       "1        a wonderful little production. <br /><br />the...\n",
       "2        i thought this was a wonderful way to spend ti...\n",
       "3        basically there's a family where a little boy ...\n",
       "4        petter mattei's \"love in the time of money\" is...\n",
       "                               ...                        \n",
       "49995    i thought this movie did a down right good job...\n",
       "49996    bad plot, bad dialogue, bad acting, idiotic di...\n",
       "49997    i am a catholic taught in parochial elementary...\n",
       "49998    i'm going to have to disagree with the previou...\n",
       "49999    no one expects the star trek movies to be high...\n",
       "Name: review, Length: 50000, dtype: object"
      ]
     },
     "execution_count": 7,
     "metadata": {},
     "output_type": "execute_result"
    }
   ],
   "source": [
    "data['review'].str.lower()\n"
   ]
  },
  {
   "cell_type": "code",
   "execution_count": 8,
   "id": "47d8b1f0-fcd1-43db-9c88-ae31a4c3d17c",
   "metadata": {},
   "outputs": [
    {
     "data": {
      "text/plain": [
       "\"basically there's a family where a little boy (jake) thinks there's a zombie in his closet & his parents are fighting all the time.<br /><br />this movie is slower than a soap opera... and suddenly, jake decides to become rambo and kill the zombie.<br /><br />ok, first of all when you're going to make a film you must decide if its a thriller or a drama! as a drama the movie is watchable. parents are divorcing & arguing like in real life. and then we have jake with his closet which totally ruins all the film! i expected to see a boogeyman similar movie, and instead i watched a drama with some meaningless thriller spots.<br /><br />3 out of 10 just for the well playing parents & descent dialogs. as for the shots with jake: just ignore them.\""
      ]
     },
     "execution_count": 8,
     "metadata": {},
     "output_type": "execute_result"
    }
   ],
   "source": [
    "data['review'][3].lower()"
   ]
  },
  {
   "cell_type": "raw",
   "id": "69ce5472-bd3c-4ed4-bfd0-f930e3e85b32",
   "metadata": {},
   "source": [
    "Step 2 : Remove HTML tags (if any)\n",
    "\n",
    "What's the need of removing it ?\n",
    "\n",
    "When we use data via web scrapping sometimes html tags comes as a part of datawhich could be hurdle for data analysis because html tags shows how data \n",
    "should be diplayed on screen ."
   ]
  },
  {
   "cell_type": "code",
   "execution_count": 9,
   "id": "46b7dfae-08f2-435a-a73b-fc0bf49e3eb9",
   "metadata": {},
   "outputs": [],
   "source": [
    "def remove_html_tags(data):\n",
    "    pattern = re.compile(r'<.*?>')\n",
    "    return pattern.sub(r'' , data)"
   ]
  },
  {
   "cell_type": "code",
   "execution_count": 10,
   "id": "8b764714-3165-452d-9f29-006cf7caf372",
   "metadata": {},
   "outputs": [],
   "source": [
    "data['review'] = data['review'].apply(remove_html_tags)"
   ]
  },
  {
   "cell_type": "code",
   "execution_count": 11,
   "id": "62558400-b47b-4db0-8d79-e54df8df9208",
   "metadata": {},
   "outputs": [],
   "source": [
    "data_t = '<br><Myname> Hi hello how are you ?'"
   ]
  },
  {
   "cell_type": "code",
   "execution_count": 12,
   "id": "8cc71a43-c8b6-4ee3-a485-5bf171868be4",
   "metadata": {},
   "outputs": [
    {
     "data": {
      "text/plain": [
       "' Hi hello how are you ?'"
      ]
     },
     "execution_count": 12,
     "metadata": {},
     "output_type": "execute_result"
    }
   ],
   "source": [
    "remove_html_tags(data_t)"
   ]
  },
  {
   "cell_type": "raw",
   "id": "ea393861-7105-4316-b72b-855c40716acd",
   "metadata": {},
   "source": [
    "Conclusion : In row 2 we had <br> <br> so that has been removed now ."
   ]
  },
  {
   "cell_type": "raw",
   "id": "14e1a11e-b11b-47c4-a67d-5b9fe559f7ce",
   "metadata": {},
   "source": [
    "Step 3 : Removing Url's (if any) "
   ]
  },
  {
   "cell_type": "code",
   "execution_count": 13,
   "id": "0c03b3f2-c4a9-4082-960a-7f97b3e9a3bd",
   "metadata": {},
   "outputs": [],
   "source": [
    "def remove_urls(data):\n",
    "    pattern = re.compile(r'https:/\\S+|www.\\S+')\n",
    "    return pattern.sub(r'' , data)"
   ]
  },
  {
   "cell_type": "code",
   "execution_count": 14,
   "id": "708f453a-29a9-4b6e-89e6-8d497a42d56e",
   "metadata": {},
   "outputs": [],
   "source": [
    "data_1 = 'https://www.consumerfinance.gov/data-research/consumer-complaints/  Hi how are you?'\n",
    "data_2 = 'www.google.com  Muskan'\n",
    "data_3 = 'www.yahoo.com Hnau'"
   ]
  },
  {
   "cell_type": "code",
   "execution_count": 15,
   "id": "001fa43d-3de4-4d08-8264-bd2acaab78d3",
   "metadata": {},
   "outputs": [
    {
     "data": {
      "text/plain": [
       "'  Hi how are you?'"
      ]
     },
     "execution_count": 15,
     "metadata": {},
     "output_type": "execute_result"
    }
   ],
   "source": [
    "remove_urls(data_1)"
   ]
  },
  {
   "cell_type": "code",
   "execution_count": 16,
   "id": "e2a90063-e8b0-4679-8c03-5d205d7acc6f",
   "metadata": {},
   "outputs": [
    {
     "data": {
      "text/plain": [
       "'  Muskan'"
      ]
     },
     "execution_count": 16,
     "metadata": {},
     "output_type": "execute_result"
    }
   ],
   "source": [
    "remove_urls(data_2)"
   ]
  },
  {
   "cell_type": "code",
   "execution_count": 17,
   "id": "ad1ade61-8e83-49c4-b433-1ad6578cc2cd",
   "metadata": {},
   "outputs": [
    {
     "data": {
      "text/plain": [
       "' Hnau'"
      ]
     },
     "execution_count": 17,
     "metadata": {},
     "output_type": "execute_result"
    }
   ],
   "source": [
    "remove_urls(data_3)"
   ]
  },
  {
   "cell_type": "raw",
   "id": "2dd5fd15-2e28-4a1a-96d6-fe23e4eabaf4",
   "metadata": {},
   "source": [
    "Step 4: Removing Punctuations "
   ]
  },
  {
   "cell_type": "code",
   "execution_count": 18,
   "id": "07f0e5a7-a185-4cd2-9a92-f59a192c1f86",
   "metadata": {},
   "outputs": [],
   "source": [
    "\n",
    "# All the necessary punctuations\n",
    "a = string.punctuation"
   ]
  },
  {
   "cell_type": "code",
   "execution_count": 19,
   "id": "352ad08e-3a14-47f0-b405-625c91406bf1",
   "metadata": {},
   "outputs": [
    {
     "data": {
      "text/plain": [
       "'!\"#$%&\\'()*+,-./:;<=>?@[\\\\]^_`{|}~'"
      ]
     },
     "execution_count": 19,
     "metadata": {},
     "output_type": "execute_result"
    }
   ],
   "source": [
    "\n",
    "a"
   ]
  },
  {
   "cell_type": "code",
   "execution_count": 20,
   "id": "8a82a544-c675-461e-a142-bfbf6d623a79",
   "metadata": {},
   "outputs": [
    {
     "data": {
      "text/plain": [
       "str"
      ]
     },
     "execution_count": 20,
     "metadata": {},
     "output_type": "execute_result"
    }
   ],
   "source": [
    "type(a)"
   ]
  },
  {
   "cell_type": "code",
   "execution_count": 21,
   "id": "d87f86c1-f79f-4590-b1a5-873e0919b918",
   "metadata": {},
   "outputs": [],
   "source": [
    "def remove_punctu(data):\n",
    "    for char in a:\n",
    "        data = data.replace(char , '')\n",
    "    return data"
   ]
  },
  {
   "cell_type": "code",
   "execution_count": 22,
   "id": "74cc47be-1554-46f2-81e8-3e7dd740ffdf",
   "metadata": {},
   "outputs": [],
   "source": [
    "text = 'Hi! My name is Muskan , How are you !@#$%^'"
   ]
  },
  {
   "cell_type": "code",
   "execution_count": 23,
   "id": "003b1d8b-2958-4069-bf2a-c6fb39ef1576",
   "metadata": {},
   "outputs": [
    {
     "data": {
      "text/plain": [
       "'Hi My name is Muskan  How are you '"
      ]
     },
     "execution_count": 23,
     "metadata": {},
     "output_type": "execute_result"
    }
   ],
   "source": [
    "remove_punctu(text)"
   ]
  },
  {
   "cell_type": "code",
   "execution_count": 24,
   "id": "21ac7b52-5b71-45b0-bf83-c6be36c91a5f",
   "metadata": {},
   "outputs": [
    {
     "data": {
      "text/plain": [
       "\"One of the other reviewers has mentioned that after watching just 1 Oz episode you'll be hooked. They are right, as this is exactly what happened with me.The first thing that struck me about Oz was its brutality and unflinching scenes of violence, which set in right from the word GO. Trust me, this is not a show for the faint hearted or timid. This show pulls no punches with regards to drugs, sex or violence. Its is hardcore, in the classic use of the word.It is called OZ as that is the nickname given to the Oswald Maximum Security State Penitentary. It focuses mainly on Emerald City, an experimental section of the prison where all the cells have glass fronts and face inwards, so privacy is not high on the agenda. Em City is home to many..Aryans, Muslims, gangstas, Latinos, Christians, Italians, Irish and more....so scuffles, death stares, dodgy dealings and shady agreements are never far away.I would say the main appeal of the show is due to the fact that it goes where other shows wouldn't dare. Forget pretty pictures painted for mainstream audiences, forget charm, forget romance...OZ doesn't mess around. The first episode I ever saw struck me as so nasty it was surreal, I couldn't say I was ready for it, but as I watched more, I developed a taste for Oz, and got accustomed to the high levels of graphic violence. Not just violence, but injustice (crooked guards who'll be sold out for a nickel, inmates who'll kill on order and get away with it, well mannered, middle class inmates being turned into prison bitches due to their lack of street skills or prison experience) Watching Oz, you may become comfortable with what is uncomfortable viewing....thats if you can get in touch with your darker side.\""
      ]
     },
     "execution_count": 24,
     "metadata": {},
     "output_type": "execute_result"
    }
   ],
   "source": [
    "data['review'][0]"
   ]
  },
  {
   "cell_type": "code",
   "execution_count": 25,
   "id": "447b35a2-fafa-4767-a96f-e1604252438b",
   "metadata": {},
   "outputs": [
    {
     "data": {
      "text/plain": [
       "'One of the other reviewers has mentioned that after watching just 1 Oz episode youll be hooked They are right as this is exactly what happened with meThe first thing that struck me about Oz was its brutality and unflinching scenes of violence which set in right from the word GO Trust me this is not a show for the faint hearted or timid This show pulls no punches with regards to drugs sex or violence Its is hardcore in the classic use of the wordIt is called OZ as that is the nickname given to the Oswald Maximum Security State Penitentary It focuses mainly on Emerald City an experimental section of the prison where all the cells have glass fronts and face inwards so privacy is not high on the agenda Em City is home to manyAryans Muslims gangstas Latinos Christians Italians Irish and moreso scuffles death stares dodgy dealings and shady agreements are never far awayI would say the main appeal of the show is due to the fact that it goes where other shows wouldnt dare Forget pretty pictures painted for mainstream audiences forget charm forget romanceOZ doesnt mess around The first episode I ever saw struck me as so nasty it was surreal I couldnt say I was ready for it but as I watched more I developed a taste for Oz and got accustomed to the high levels of graphic violence Not just violence but injustice crooked guards wholl be sold out for a nickel inmates wholl kill on order and get away with it well mannered middle class inmates being turned into prison bitches due to their lack of street skills or prison experience Watching Oz you may become comfortable with what is uncomfortable viewingthats if you can get in touch with your darker side'"
      ]
     },
     "execution_count": 25,
     "metadata": {},
     "output_type": "execute_result"
    }
   ],
   "source": [
    "remove_punctu(data['review'][0])"
   ]
  },
  {
   "cell_type": "markdown",
   "id": "2656291e-3edf-4379-8a3f-5a0d4efddc7e",
   "metadata": {},
   "source": [
    "Conclusion : This method of removing the punctuation is a bit slower . Let's try faster one ."
   ]
  },
  {
   "cell_type": "code",
   "execution_count": 26,
   "id": "6b2e0fa1-19e1-4137-abf9-d7f28d896e48",
   "metadata": {},
   "outputs": [],
   "source": [
    "def remove_punct_fast(data):\n",
    "    return data.translate(str.maketrans('','',a))"
   ]
  },
  {
   "cell_type": "code",
   "execution_count": 27,
   "id": "2173c764-d23b-4767-912a-9a92efb7c336",
   "metadata": {},
   "outputs": [
    {
     "data": {
      "text/plain": [
       "0        One of the other reviewers has mentioned that ...\n",
       "1        A wonderful little production The filming tech...\n",
       "2        I thought this was a wonderful way to spend ti...\n",
       "3        Basically theres a family where a little boy J...\n",
       "4        Petter Matteis Love in the Time of Money is a ...\n",
       "                               ...                        \n",
       "49995    I thought this movie did a down right good job...\n",
       "49996    Bad plot bad dialogue bad acting idiotic direc...\n",
       "49997    I am a Catholic taught in parochial elementary...\n",
       "49998    Im going to have to disagree with the previous...\n",
       "49999    No one expects the Star Trek movies to be high...\n",
       "Name: review, Length: 50000, dtype: object"
      ]
     },
     "execution_count": 27,
     "metadata": {},
     "output_type": "execute_result"
    }
   ],
   "source": [
    "data['review'].apply(remove_punct_fast)"
   ]
  },
  {
   "cell_type": "raw",
   "id": "d0e5ae23-63a3-4a1e-bfb9-d46f9f2aeba1",
   "metadata": {},
   "source": [
    "Step 6 : Chat words treatment"
   ]
  },
  {
   "cell_type": "raw",
   "id": "c0c4b11e-1132-4ee3-b7ba-16252c726140",
   "metadata": {},
   "source": [
    "For this first we have to create a dictionary which will chat words and main words \n",
    "I refered this from : https://github.com/rishabhverma17/sms_slang_translator/edit/master/slang.txt"
   ]
  },
  {
   "cell_type": "code",
   "execution_count": 28,
   "id": "6398d64a-254e-4534-8a62-f15529e866d7",
   "metadata": {},
   "outputs": [],
   "source": [
    "# Let's create a dictionary referring slang.txt \n",
    "\n",
    "chat_words = {\n",
    "    'AFAIK': 'As Far As I Know' , \n",
    "'AFK': 'Away From Keyboard' , 'ASAP':'As Soon As Possible' , \n",
    "'ATK': 'At The Keyboard' ,'ATM':'At The Moment','A3': 'Anytime, Anywhere, Anyplace' ,\n",
    " 'BAK' : 'Back At Keyboard' , 'BBL': 'Be Back Later' , 'BBS':'Be Back Soon' , 'BFN': 'Bye For Now' ,\n",
    " 'B4N': 'Bye For Now', 'BRB': 'Be Right Back' , 'BRT':'Be Right There' ,'BTW': 'By The Way' ,\n",
    " 'B4' : 'Before' ,'B4N': 'Bye For Now' , 'CU': 'See You' , 'CUL8R' : 'See You Later', 'CYA': 'See You',\n",
    " 'FAQ': 'Frequently Asked Questions', 'FC': 'Fingers Crossed' , 'FWIW': 'For What Its Worth' ,\n",
    "  'FYI' : 'For Your Information' , 'GAL': 'Get A Life' , 'GG': 'Good Game' , 'GN': 'Good Night'\n",
    "}\n",
    "\n",
    "#FYI :ths dictionary is flexible . You cam add more chat words according to your use case "
   ]
  },
  {
   "cell_type": "code",
   "execution_count": 29,
   "id": "be216918-6792-47cc-8020-0853d521d6ad",
   "metadata": {},
   "outputs": [],
   "source": [
    "def chat_words_detection(text):\n",
    "    new_list = []\n",
    "    for w in text.split():\n",
    "        if w.upper() in chat_words:\n",
    "            #appending that key if it is in text\n",
    "            new_list.append(chat_words[w.upper()])\n",
    "        else:\n",
    "            new_list.append(w)\n",
    "    return \" \".join(new_list)"
   ]
  },
  {
   "cell_type": "code",
   "execution_count": 30,
   "id": "14172c0b-dafe-4aca-946a-45b5cf600079",
   "metadata": {},
   "outputs": [],
   "source": [
    "text = 'FYI deadline is today'"
   ]
  },
  {
   "cell_type": "code",
   "execution_count": 31,
   "id": "9ff9ff78-7f61-4cd8-86fb-e8a4b0acd216",
   "metadata": {},
   "outputs": [
    {
     "data": {
      "text/plain": [
       "'For Your Information deadline is today'"
      ]
     },
     "execution_count": 31,
     "metadata": {},
     "output_type": "execute_result"
    }
   ],
   "source": [
    "chat_words_detection(text)"
   ]
  },
  {
   "cell_type": "raw",
   "id": "b2fa6973-54bc-44e1-a83a-ae354b8b7c62",
   "metadata": {},
   "source": [
    "Step 7 : Spelling Correction:"
   ]
  },
  {
   "cell_type": "code",
   "execution_count": 32,
   "id": "dab2d788-3460-4960-8d1e-ae328d91f4c8",
   "metadata": {},
   "outputs": [],
   "source": [
    "text = 'severe conditions duriing'"
   ]
  },
  {
   "cell_type": "code",
   "execution_count": 33,
   "id": "608bcc55-f658-473f-985c-4b0a84cd6ea8",
   "metadata": {},
   "outputs": [],
   "source": [
    "corretion = TextBlob(text)"
   ]
  },
  {
   "cell_type": "code",
   "execution_count": 34,
   "id": "abf2c536-dd99-4a38-86e3-ddf86353d5f7",
   "metadata": {},
   "outputs": [
    {
     "data": {
      "text/plain": [
       "textblob.blob.TextBlob"
      ]
     },
     "execution_count": 34,
     "metadata": {},
     "output_type": "execute_result"
    }
   ],
   "source": [
    "type(corretion.correct())"
   ]
  },
  {
   "cell_type": "code",
   "execution_count": 35,
   "id": "251da3ad-d545-4e2e-a2b4-b9c2232cdd09",
   "metadata": {},
   "outputs": [
    {
     "data": {
      "text/plain": [
       "'severe conditions during'"
      ]
     },
     "execution_count": 35,
     "metadata": {},
     "output_type": "execute_result"
    }
   ],
   "source": [
    "#because here  output is coming in form of textblob.blob so we will convert it into string\n",
    "str(corretion.correct())"
   ]
  },
  {
   "cell_type": "raw",
   "id": "81c236cf-9c17-478c-95d7-16662d35cabe",
   "metadata": {},
   "source": [
    "Step 7: removing stop words"
   ]
  },
  {
   "cell_type": "code",
   "execution_count": 36,
   "id": "438d38a4-9f22-45b2-b527-10cac8d0de8d",
   "metadata": {},
   "outputs": [
    {
     "name": "stderr",
     "output_type": "stream",
     "text": [
      "[nltk_data] Downloading package stopwords to\n",
      "[nltk_data]     C:\\Users\\hp\\AppData\\Roaming\\nltk_data...\n",
      "[nltk_data]   Package stopwords is already up-to-date!\n"
     ]
    },
    {
     "data": {
      "text/plain": [
       "True"
      ]
     },
     "execution_count": 36,
     "metadata": {},
     "output_type": "execute_result"
    }
   ],
   "source": [
    "import nltk\n",
    "nltk.download('stopwords')"
   ]
  },
  {
   "cell_type": "code",
   "execution_count": 37,
   "id": "dbb9cfbc-4496-4854-b8af-0f277998f2dd",
   "metadata": {},
   "outputs": [
    {
     "data": {
      "text/plain": [
       "['i',\n",
       " 'me',\n",
       " 'my',\n",
       " 'myself',\n",
       " 'we',\n",
       " 'our',\n",
       " 'ours',\n",
       " 'ourselves',\n",
       " 'you',\n",
       " \"you're\",\n",
       " \"you've\",\n",
       " \"you'll\",\n",
       " \"you'd\",\n",
       " 'your',\n",
       " 'yours',\n",
       " 'yourself',\n",
       " 'yourselves',\n",
       " 'he',\n",
       " 'him',\n",
       " 'his',\n",
       " 'himself',\n",
       " 'she',\n",
       " \"she's\",\n",
       " 'her',\n",
       " 'hers',\n",
       " 'herself',\n",
       " 'it',\n",
       " \"it's\",\n",
       " 'its',\n",
       " 'itself',\n",
       " 'they',\n",
       " 'them',\n",
       " 'their',\n",
       " 'theirs',\n",
       " 'themselves',\n",
       " 'what',\n",
       " 'which',\n",
       " 'who',\n",
       " 'whom',\n",
       " 'this',\n",
       " 'that',\n",
       " \"that'll\",\n",
       " 'these',\n",
       " 'those',\n",
       " 'am',\n",
       " 'is',\n",
       " 'are',\n",
       " 'was',\n",
       " 'were',\n",
       " 'be',\n",
       " 'been',\n",
       " 'being',\n",
       " 'have',\n",
       " 'has',\n",
       " 'had',\n",
       " 'having',\n",
       " 'do',\n",
       " 'does',\n",
       " 'did',\n",
       " 'doing',\n",
       " 'a',\n",
       " 'an',\n",
       " 'the',\n",
       " 'and',\n",
       " 'but',\n",
       " 'if',\n",
       " 'or',\n",
       " 'because',\n",
       " 'as',\n",
       " 'until',\n",
       " 'while',\n",
       " 'of',\n",
       " 'at',\n",
       " 'by',\n",
       " 'for',\n",
       " 'with',\n",
       " 'about',\n",
       " 'against',\n",
       " 'between',\n",
       " 'into',\n",
       " 'through',\n",
       " 'during',\n",
       " 'before',\n",
       " 'after',\n",
       " 'above',\n",
       " 'below',\n",
       " 'to',\n",
       " 'from',\n",
       " 'up',\n",
       " 'down',\n",
       " 'in',\n",
       " 'out',\n",
       " 'on',\n",
       " 'off',\n",
       " 'over',\n",
       " 'under',\n",
       " 'again',\n",
       " 'further',\n",
       " 'then',\n",
       " 'once',\n",
       " 'here',\n",
       " 'there',\n",
       " 'when',\n",
       " 'where',\n",
       " 'why',\n",
       " 'how',\n",
       " 'all',\n",
       " 'any',\n",
       " 'both',\n",
       " 'each',\n",
       " 'few',\n",
       " 'more',\n",
       " 'most',\n",
       " 'other',\n",
       " 'some',\n",
       " 'such',\n",
       " 'no',\n",
       " 'nor',\n",
       " 'not',\n",
       " 'only',\n",
       " 'own',\n",
       " 'same',\n",
       " 'so',\n",
       " 'than',\n",
       " 'too',\n",
       " 'very',\n",
       " 's',\n",
       " 't',\n",
       " 'can',\n",
       " 'will',\n",
       " 'just',\n",
       " 'don',\n",
       " \"don't\",\n",
       " 'should',\n",
       " \"should've\",\n",
       " 'now',\n",
       " 'd',\n",
       " 'll',\n",
       " 'm',\n",
       " 'o',\n",
       " 're',\n",
       " 've',\n",
       " 'y',\n",
       " 'ain',\n",
       " 'aren',\n",
       " \"aren't\",\n",
       " 'couldn',\n",
       " \"couldn't\",\n",
       " 'didn',\n",
       " \"didn't\",\n",
       " 'doesn',\n",
       " \"doesn't\",\n",
       " 'hadn',\n",
       " \"hadn't\",\n",
       " 'hasn',\n",
       " \"hasn't\",\n",
       " 'haven',\n",
       " \"haven't\",\n",
       " 'isn',\n",
       " \"isn't\",\n",
       " 'ma',\n",
       " 'mightn',\n",
       " \"mightn't\",\n",
       " 'mustn',\n",
       " \"mustn't\",\n",
       " 'needn',\n",
       " \"needn't\",\n",
       " 'shan',\n",
       " \"shan't\",\n",
       " 'shouldn',\n",
       " \"shouldn't\",\n",
       " 'wasn',\n",
       " \"wasn't\",\n",
       " 'weren',\n",
       " \"weren't\",\n",
       " 'won',\n",
       " \"won't\",\n",
       " 'wouldn',\n",
       " \"wouldn't\"]"
      ]
     },
     "execution_count": 37,
     "metadata": {},
     "output_type": "execute_result"
    }
   ],
   "source": [
    "stopwords.words('english')"
   ]
  },
  {
   "cell_type": "code",
   "execution_count": 36,
   "id": "f71a7e51-4670-4ffb-92e9-3da7576d8467",
   "metadata": {},
   "outputs": [
    {
     "data": {
      "text/plain": [
       "['de',\n",
       " 'la',\n",
       " 'que',\n",
       " 'el',\n",
       " 'en',\n",
       " 'y',\n",
       " 'a',\n",
       " 'los',\n",
       " 'del',\n",
       " 'se',\n",
       " 'las',\n",
       " 'por',\n",
       " 'un',\n",
       " 'para',\n",
       " 'con',\n",
       " 'no',\n",
       " 'una',\n",
       " 'su',\n",
       " 'al',\n",
       " 'lo',\n",
       " 'como',\n",
       " 'más',\n",
       " 'pero',\n",
       " 'sus',\n",
       " 'le',\n",
       " 'ya',\n",
       " 'o',\n",
       " 'este',\n",
       " 'sí',\n",
       " 'porque',\n",
       " 'esta',\n",
       " 'entre',\n",
       " 'cuando',\n",
       " 'muy',\n",
       " 'sin',\n",
       " 'sobre',\n",
       " 'también',\n",
       " 'me',\n",
       " 'hasta',\n",
       " 'hay',\n",
       " 'donde',\n",
       " 'quien',\n",
       " 'desde',\n",
       " 'todo',\n",
       " 'nos',\n",
       " 'durante',\n",
       " 'todos',\n",
       " 'uno',\n",
       " 'les',\n",
       " 'ni',\n",
       " 'contra',\n",
       " 'otros',\n",
       " 'ese',\n",
       " 'eso',\n",
       " 'ante',\n",
       " 'ellos',\n",
       " 'e',\n",
       " 'esto',\n",
       " 'mí',\n",
       " 'antes',\n",
       " 'algunos',\n",
       " 'qué',\n",
       " 'unos',\n",
       " 'yo',\n",
       " 'otro',\n",
       " 'otras',\n",
       " 'otra',\n",
       " 'él',\n",
       " 'tanto',\n",
       " 'esa',\n",
       " 'estos',\n",
       " 'mucho',\n",
       " 'quienes',\n",
       " 'nada',\n",
       " 'muchos',\n",
       " 'cual',\n",
       " 'poco',\n",
       " 'ella',\n",
       " 'estar',\n",
       " 'estas',\n",
       " 'algunas',\n",
       " 'algo',\n",
       " 'nosotros',\n",
       " 'mi',\n",
       " 'mis',\n",
       " 'tú',\n",
       " 'te',\n",
       " 'ti',\n",
       " 'tu',\n",
       " 'tus',\n",
       " 'ellas',\n",
       " 'nosotras',\n",
       " 'vosotros',\n",
       " 'vosotras',\n",
       " 'os',\n",
       " 'mío',\n",
       " 'mía',\n",
       " 'míos',\n",
       " 'mías',\n",
       " 'tuyo',\n",
       " 'tuya',\n",
       " 'tuyos',\n",
       " 'tuyas',\n",
       " 'suyo',\n",
       " 'suya',\n",
       " 'suyos',\n",
       " 'suyas',\n",
       " 'nuestro',\n",
       " 'nuestra',\n",
       " 'nuestros',\n",
       " 'nuestras',\n",
       " 'vuestro',\n",
       " 'vuestra',\n",
       " 'vuestros',\n",
       " 'vuestras',\n",
       " 'esos',\n",
       " 'esas',\n",
       " 'estoy',\n",
       " 'estás',\n",
       " 'está',\n",
       " 'estamos',\n",
       " 'estáis',\n",
       " 'están',\n",
       " 'esté',\n",
       " 'estés',\n",
       " 'estemos',\n",
       " 'estéis',\n",
       " 'estén',\n",
       " 'estaré',\n",
       " 'estarás',\n",
       " 'estará',\n",
       " 'estaremos',\n",
       " 'estaréis',\n",
       " 'estarán',\n",
       " 'estaría',\n",
       " 'estarías',\n",
       " 'estaríamos',\n",
       " 'estaríais',\n",
       " 'estarían',\n",
       " 'estaba',\n",
       " 'estabas',\n",
       " 'estábamos',\n",
       " 'estabais',\n",
       " 'estaban',\n",
       " 'estuve',\n",
       " 'estuviste',\n",
       " 'estuvo',\n",
       " 'estuvimos',\n",
       " 'estuvisteis',\n",
       " 'estuvieron',\n",
       " 'estuviera',\n",
       " 'estuvieras',\n",
       " 'estuviéramos',\n",
       " 'estuvierais',\n",
       " 'estuvieran',\n",
       " 'estuviese',\n",
       " 'estuvieses',\n",
       " 'estuviésemos',\n",
       " 'estuvieseis',\n",
       " 'estuviesen',\n",
       " 'estando',\n",
       " 'estado',\n",
       " 'estada',\n",
       " 'estados',\n",
       " 'estadas',\n",
       " 'estad',\n",
       " 'he',\n",
       " 'has',\n",
       " 'ha',\n",
       " 'hemos',\n",
       " 'habéis',\n",
       " 'han',\n",
       " 'haya',\n",
       " 'hayas',\n",
       " 'hayamos',\n",
       " 'hayáis',\n",
       " 'hayan',\n",
       " 'habré',\n",
       " 'habrás',\n",
       " 'habrá',\n",
       " 'habremos',\n",
       " 'habréis',\n",
       " 'habrán',\n",
       " 'habría',\n",
       " 'habrías',\n",
       " 'habríamos',\n",
       " 'habríais',\n",
       " 'habrían',\n",
       " 'había',\n",
       " 'habías',\n",
       " 'habíamos',\n",
       " 'habíais',\n",
       " 'habían',\n",
       " 'hube',\n",
       " 'hubiste',\n",
       " 'hubo',\n",
       " 'hubimos',\n",
       " 'hubisteis',\n",
       " 'hubieron',\n",
       " 'hubiera',\n",
       " 'hubieras',\n",
       " 'hubiéramos',\n",
       " 'hubierais',\n",
       " 'hubieran',\n",
       " 'hubiese',\n",
       " 'hubieses',\n",
       " 'hubiésemos',\n",
       " 'hubieseis',\n",
       " 'hubiesen',\n",
       " 'habiendo',\n",
       " 'habido',\n",
       " 'habida',\n",
       " 'habidos',\n",
       " 'habidas',\n",
       " 'soy',\n",
       " 'eres',\n",
       " 'es',\n",
       " 'somos',\n",
       " 'sois',\n",
       " 'son',\n",
       " 'sea',\n",
       " 'seas',\n",
       " 'seamos',\n",
       " 'seáis',\n",
       " 'sean',\n",
       " 'seré',\n",
       " 'serás',\n",
       " 'será',\n",
       " 'seremos',\n",
       " 'seréis',\n",
       " 'serán',\n",
       " 'sería',\n",
       " 'serías',\n",
       " 'seríamos',\n",
       " 'seríais',\n",
       " 'serían',\n",
       " 'era',\n",
       " 'eras',\n",
       " 'éramos',\n",
       " 'erais',\n",
       " 'eran',\n",
       " 'fui',\n",
       " 'fuiste',\n",
       " 'fue',\n",
       " 'fuimos',\n",
       " 'fuisteis',\n",
       " 'fueron',\n",
       " 'fuera',\n",
       " 'fueras',\n",
       " 'fuéramos',\n",
       " 'fuerais',\n",
       " 'fueran',\n",
       " 'fuese',\n",
       " 'fueses',\n",
       " 'fuésemos',\n",
       " 'fueseis',\n",
       " 'fuesen',\n",
       " 'sintiendo',\n",
       " 'sentido',\n",
       " 'sentida',\n",
       " 'sentidos',\n",
       " 'sentidas',\n",
       " 'siente',\n",
       " 'sentid',\n",
       " 'tengo',\n",
       " 'tienes',\n",
       " 'tiene',\n",
       " 'tenemos',\n",
       " 'tenéis',\n",
       " 'tienen',\n",
       " 'tenga',\n",
       " 'tengas',\n",
       " 'tengamos',\n",
       " 'tengáis',\n",
       " 'tengan',\n",
       " 'tendré',\n",
       " 'tendrás',\n",
       " 'tendrá',\n",
       " 'tendremos',\n",
       " 'tendréis',\n",
       " 'tendrán',\n",
       " 'tendría',\n",
       " 'tendrías',\n",
       " 'tendríamos',\n",
       " 'tendríais',\n",
       " 'tendrían',\n",
       " 'tenía',\n",
       " 'tenías',\n",
       " 'teníamos',\n",
       " 'teníais',\n",
       " 'tenían',\n",
       " 'tuve',\n",
       " 'tuviste',\n",
       " 'tuvo',\n",
       " 'tuvimos',\n",
       " 'tuvisteis',\n",
       " 'tuvieron',\n",
       " 'tuviera',\n",
       " 'tuvieras',\n",
       " 'tuviéramos',\n",
       " 'tuvierais',\n",
       " 'tuvieran',\n",
       " 'tuviese',\n",
       " 'tuvieses',\n",
       " 'tuviésemos',\n",
       " 'tuvieseis',\n",
       " 'tuviesen',\n",
       " 'teniendo',\n",
       " 'tenido',\n",
       " 'tenida',\n",
       " 'tenidos',\n",
       " 'tenidas',\n",
       " 'tened']"
      ]
     },
     "execution_count": 36,
     "metadata": {},
     "output_type": "execute_result"
    }
   ],
   "source": [
    "stopwords.words('spanish')"
   ]
  },
  {
   "cell_type": "code",
   "execution_count": 38,
   "id": "df23046a-0cd3-487f-ba59-465bc43c2a49",
   "metadata": {},
   "outputs": [],
   "source": [
    "def remove_stopwords(text):\n",
    "    new_list = []\n",
    "    for words in text.split():\n",
    "        if words in stopwords.words('english'):\n",
    "            new_list.append('')\n",
    "        else:\n",
    "            new_list.append(words)\n",
    "        x = new_list[:]\n",
    "        \n",
    "    return ' '.join(x)            "
   ]
  },
  {
   "cell_type": "code",
   "execution_count": 39,
   "id": "2d790c73-1fb7-4e5d-a37f-b54a192a186f",
   "metadata": {},
   "outputs": [
    {
     "data": {
      "text/plain": [
       "<function __main__.remove_stopwords(text)>"
      ]
     },
     "execution_count": 39,
     "metadata": {},
     "output_type": "execute_result"
    }
   ],
   "source": []
  },
  {
   "cell_type": "code",
   "execution_count": 41,
   "id": "11a029f8-535e-4e9c-b2e1-8eca9e8e8586",
   "metadata": {},
   "outputs": [],
   "source": [
    "#data['review'].apply(remove_stopwords)"
   ]
  },
  {
   "cell_type": "code",
   "execution_count": 42,
   "id": "008241a1-bf2e-4c88-85a5-2e85e755da33",
   "metadata": {},
   "outputs": [],
   "source": [
    "text = 'Hi How are you . I am a good girl'"
   ]
  },
  {
   "cell_type": "code",
   "execution_count": 43,
   "id": "43b9557d-1b43-492f-9195-6b81f49d20e4",
   "metadata": {},
   "outputs": [
    {
     "data": {
      "text/plain": [
       "'Hi How   . I   good girl'"
      ]
     },
     "execution_count": 43,
     "metadata": {},
     "output_type": "execute_result"
    }
   ],
   "source": [
    "remove_stopwords(text)"
   ]
  },
  {
   "cell_type": "markdown",
   "id": "3511a213-c858-4ce1-80de-f6c6772b6e5e",
   "metadata": {},
   "source": [
    "Step 8 : Handling emojis "
   ]
  },
  {
   "cell_type": "raw",
   "id": "deb9bea1-8fb2-4c44-9c60-e145003d2d0b",
   "metadata": {},
   "source": [
    "There are two methods of handling emoji's :\n",
    "A. Removing emoji's\n",
    "B . Replacing emoji's\n"
   ]
  },
  {
   "cell_type": "code",
   "execution_count": 45,
   "id": "1a9b961f-acc8-4686-b01e-c2c74bc0df07",
   "metadata": {},
   "outputs": [],
   "source": [
    "# Removing Emoji's\n",
    "def remove_emojis(text):\n",
    "    emoji_pattern = re.compile(\"[\"\n",
    "                                 u\"\\U0001F600 - \\U0001F64F\"\n",
    "                                 u\"\\U0001F300 - \\U0001F5FF\"\n",
    "                                 u\"\\U0001F680 - \\U0001F6FF\"\n",
    "                                 u\"\\U0001F1E0 - \\U0001F1FF\"\n",
    "                                 u\"\\U00002702 - \\U000027B0\"\n",
    "                                 u\"\\U000024C2 - \\U0001F251\"\n",
    "                               \"]+\" , flags = re.UNICODE)\n",
    "    return emoji_pattern.sub(r'' , text)"
   ]
  },
  {
   "cell_type": "code",
   "execution_count": 46,
   "id": "032df9d7-9977-4bde-904e-786787b6cb3d",
   "metadata": {},
   "outputs": [],
   "source": [
    "text = 'How are you ? 😀'"
   ]
  },
  {
   "cell_type": "code",
   "execution_count": 49,
   "id": "b034dbed-ec8a-4f64-9d4e-73914a9cbbe3",
   "metadata": {},
   "outputs": [
    {
     "data": {
      "text/plain": [
       "'Howareyou?'"
      ]
     },
     "execution_count": 49,
     "metadata": {},
     "output_type": "execute_result"
    }
   ],
   "source": [
    "remove_emojis(text)"
   ]
  },
  {
   "cell_type": "code",
   "execution_count": 52,
   "id": "7e03f8d6-a8da-4fb6-85a6-f786a4be0522",
   "metadata": {},
   "outputs": [
    {
     "name": "stdout",
     "output_type": "stream",
     "text": [
      "Collecting emoji\n",
      "  Downloading emoji-2.12.1-py3-none-any.whl.metadata (5.4 kB)\n",
      "Collecting typing-extensions>=4.7.0 (from emoji)\n",
      "  Downloading typing_extensions-4.12.2-py3-none-any.whl.metadata (3.0 kB)\n",
      "Downloading emoji-2.12.1-py3-none-any.whl (431 kB)\n",
      "   ---------------------------------------- 0.0/431.4 kB ? eta -:--:--\n",
      "   ---------------------------------------- 0.0/431.4 kB ? eta -:--:--\n",
      "    --------------------------------------- 10.2/431.4 kB ? eta -:--:--\n",
      "   -- ------------------------------------ 30.7/431.4 kB 262.6 kB/s eta 0:00:02\n",
      "   --------- ---------------------------- 112.6/431.4 kB 731.4 kB/s eta 0:00:01\n",
      "   ------------------------------------ --- 389.1/431.4 kB 2.0 MB/s eta 0:00:01\n",
      "   ---------------------------------------- 431.4/431.4 kB 1.9 MB/s eta 0:00:00\n",
      "Downloading typing_extensions-4.12.2-py3-none-any.whl (37 kB)\n",
      "Installing collected packages: typing-extensions, emoji\n",
      "Successfully installed emoji-2.12.1 typing-extensions-4.12.2\n"
     ]
    },
    {
     "name": "stderr",
     "output_type": "stream",
     "text": [
      "\n",
      "[notice] A new release of pip is available: 24.0 -> 24.1.2\n",
      "[notice] To update, run: python.exe -m pip install --upgrade pip\n"
     ]
    }
   ],
   "source": [
    "#Replacing\n",
    "!pip install emoji\n",
    "import emoji"
   ]
  },
  {
   "cell_type": "code",
   "execution_count": 53,
   "id": "cf9f8531-2a43-402d-b73b-9e01edd3b6bb",
   "metadata": {},
   "outputs": [
    {
     "name": "stdout",
     "output_type": "stream",
     "text": [
      "How are you ? :grinning_face:\n"
     ]
    }
   ],
   "source": [
    "print(emoji.demojize('How are you ? 😀'))"
   ]
  },
  {
   "cell_type": "code",
   "execution_count": null,
   "id": "2b077fa7-cadc-4f12-a178-c33a73c967c8",
   "metadata": {},
   "outputs": [],
   "source": []
  }
 ],
 "metadata": {
  "kernelspec": {
   "display_name": "Python 3 (ipykernel)",
   "language": "python",
   "name": "python3"
  },
  "language_info": {
   "codemirror_mode": {
    "name": "ipython",
    "version": 3
   },
   "file_extension": ".py",
   "mimetype": "text/x-python",
   "name": "python",
   "nbconvert_exporter": "python",
   "pygments_lexer": "ipython3",
   "version": "3.12.3"
  }
 },
 "nbformat": 4,
 "nbformat_minor": 5
}
